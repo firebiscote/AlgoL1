{
 "cells": [
  {
   "cell_type": "markdown",
   "id": "75b69e48",
   "metadata": {},
   "source": [
    "# Introduction\n",
    "\n",
    "## Contexte\n",
    "\n",
    "L’ADEME (Agence de l’Environnement et de la Maîtrise de l’Energie) nous demande la réalisation de trouver et d'expérimenté de nouvelles solutions de mobilité pour les personnes et les marchandises adaptées à différents types de territoires.\n",
    "\n",
    "Les nouvelles technologies de transport, plus économiques et moins polluantes ne sont pas sans poser de nouveaux défis notamment d’un point de vue de l’optimisation de la gestion des ressources. Mais ces problèmes de logistique du transport présentent un enjeu majeur pour l’avenir : ses applications sont nombreuses (distribution du courrier, livraison de produits, traitement du réseau routier, ramassage des ordures) et leur impact sur l’environnement peut être véritablement significatif.\n",
    "\n",
    "Nous faisons partie de l’équipe mise en place par CesiCDP pour répondre à l’appel de l’ADEME. L’enjeu est d’obtenir de nouveaux marchés avec des financements très intéressants pour continuer à développer votre activité.\n",
    "\n",
    "L'objectif est de trouver le chemin de livraison, pour un camion donné, le plus rapide en passant par tous les points de livraison, en prennant en compte la variation du traffic, le niveau d'essence du camion et la prise en compte d'une fenêtre de temps au niveau de la livraison tout en revenant à son point de départ.\n",
    "\n",
    "L’idée est de proposer une méthode issue de la Recherche Opérationnelle pour générer une tournée de livraison correspondant à ce problème.\n",
    "\n",
    "## Périmètre (Contraintes)\n",
    "\n",
    "1. **Variation du trafic** :  Selon l'heure, l'algorithme pondérera le graph en fonction du trafic connu sur les différentes arêtes. \n",
    "2. **Variation du niveau d'essence du camion** : Calcul du cycle au départ en fonction des stations essences situées dans le graph  \n",
    "3. **Trajet pour récupérer tous les éléments du lot puis livraison du lot** : En premier lieu, le camion va visiter tous les points de collecte le plus vite possible pour récupérer tous les éléments du lot, puis livrer les lots à chaque ville.\n",
    "\n",
    "## Problème de décision\n",
    "Données : un graphe G pondéré, un sommet u, une date d, des entiers y, k\n",
    "Problème : Existe-t-il un cycle partant de u dans le graphe G prenant en compte la date d de départ, la variation du trafic, le niveau d'essence du camion y et la fenêtre de temps d'attente de temps inférieur à k ?\n",
    "\n",
    "## Problème d'optimisation\n",
    "Données : un graphe G pondéré, un sommet u, une date d, des entiers y, k\n",
    "Problème : Quelle est la plus petite valeur de k pour laquelle il existe un cycle partant de u dans le graphe G prenant en compte la date d de départ, la variation du trafic, le niveau d'essence du camion y et la fenêtre de temps d'attente de temps inférieur à k ?\n",
    "\n",
    "## Algorithme de certificat\n",
    "\n",
    "\n",
    "\n",
    "\n",
    "\n"
   ]
  },
  {
   "cell_type": "code",
   "execution_count": null,
   "id": "040aa1ad",
   "metadata": {},
   "outputs": [],
   "source": []
  }
 ],
 "metadata": {
  "kernelspec": {
   "display_name": "Python 3 (ipykernel)",
   "language": "python",
   "name": "python3"
  },
  "language_info": {
   "codemirror_mode": {
    "name": "ipython",
    "version": 3
   },
   "file_extension": ".py",
   "mimetype": "text/x-python",
   "name": "python",
   "nbconvert_exporter": "python",
   "pygments_lexer": "ipython3",
   "version": "3.10.4"
  }
 },
 "nbformat": 4,
 "nbformat_minor": 5
}

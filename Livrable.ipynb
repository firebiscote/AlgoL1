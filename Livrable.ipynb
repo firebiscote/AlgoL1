{
 "cells": [
  {
   "cell_type": "markdown",
   "id": "75b69e48",
   "metadata": {},
   "source": [
    "# Introduction"
   ]
  },
  {
   "cell_type": "markdown",
   "id": "2bae73cc",
   "metadata": {},
   "source": [
    "## Contexte"
   ]
  },
  {
   "cell_type": "markdown",
   "id": "d2e21528",
   "metadata": {},
   "source": [
    "L’ADEME (Agence de l’Environnement et de la Maîtrise de l’Energie) nous demande la réalisation de trouver et d'expérimenté de nouvelles solutions de mobilité pour les personnes et les marchandises adaptées à différents types de territoires.\n",
    "\n",
    "Les nouvelles technologies de transport, plus économiques et moins polluantes ne sont pas sans poser de nouveaux défis notamment d’un point de vue de l’optimisation de la gestion des ressources. Mais ces problèmes de logistique du transport présentent un enjeu majeur pour l’avenir : ses applications sont nombreuses (distribution du courrier, livraison de produits, traitement du réseau routier, ramassage des ordures) et leur impact sur l’environnement peut être véritablement significatif.\n",
    "\n",
    "Nous faisons partie de l’équipe mise en place par CesiCDP pour répondre à l’appel de l’ADEME. L’enjeu est d’obtenir de nouveaux marchés avec des financements très intéressants pour continuer à développer votre activité.\n",
    "\n",
    "L'objectif est de trouver le chemin de livraison, pour un camion donné, le plus rapide en passant par tous les points de livraison, en prennant en compte la variation du traffic, le niveau d'essence du camion et la prise en compte d'une fenêtre de temps au niveau de la livraison tout en revenant à son point de départ.\n",
    "\n",
    "L’idée est de proposer une méthode issue de la Recherche Opérationnelle pour générer une tournée de livraison correspondant à ce problème."
   ]
  },
  {
   "cell_type": "markdown",
   "id": "c2d01bfd",
   "metadata": {},
   "source": [
    "## Périmètre (Contraintes)"
   ]
  },
  {
   "cell_type": "markdown",
   "id": "b5e6ad10",
   "metadata": {},
   "source": [
    "1) Variation du traffic ;"
   ]
  },
  {
   "cell_type": "markdown",
   "id": "fb290896",
   "metadata": {},
   "source": [
    "2) Variation du niveau d'essence du camion ;"
   ]
  },
  {
   "cell_type": "markdown",
   "id": "2b225aa7",
   "metadata": {},
   "source": [
    "3) Prise en compte d'une fenêtre de temps d'attente au moment de la livraison."
   ]
  },
  {
   "cell_type": "markdown",
   "id": "b8c04ca0",
   "metadata": {},
   "source": [
    "# Problème de décision"
   ]
  },
  {
   "cell_type": "markdown",
   "id": "d280aefd",
   "metadata": {},
   "source": [
    "Données : un graphe G pondéré, des entiers x, y / x étant la fenêtre de temps et y le niveau d'essence max"
   ]
  },
  {
   "cell_type": "markdown",
   "id": "37731883",
   "metadata": {},
   "source": [
    "Problème : Existe-t-il un cycle Hamiltonien dans le graphe G en prenant en compte la variation du traffic, le niveau d'essence du camion et la fenêtre de temps d'attente ?"
   ]
  },
  {
   "cell_type": "markdown",
   "id": "ab8207d7",
   "metadata": {},
   "source": [
    "# Problème d'optimisation"
   ]
  },
  {
   "cell_type": "markdown",
   "id": "a3a3b3f4",
   "metadata": {},
   "source": [
    "Données :"
   ]
  },
  {
   "cell_type": "markdown",
   "id": "c5da5d79",
   "metadata": {},
   "source": [
    "Probléme :"
   ]
  },
  {
   "cell_type": "markdown",
   "id": "b622ffb1",
   "metadata": {},
   "source": [
    "push julie"
   ]
  },
  {
   "cell_type": "code",
   "execution_count": null,
   "id": "aa18d756",
   "metadata": {},
   "outputs": [],
   "source": []
  }
 ],
 "metadata": {
  "kernelspec": {
   "display_name": "Python 3 (ipykernel)",
   "language": "python",
   "name": "python3"
  },
  "language_info": {
   "codemirror_mode": {
    "name": "ipython",
    "version": 3
   },
   "file_extension": ".py",
   "mimetype": "text/x-python",
   "name": "python",
   "nbconvert_exporter": "python",
   "pygments_lexer": "ipython3",
   "version": "3.10.4"
  }
 },
 "nbformat": 4,
 "nbformat_minor": 5
}
